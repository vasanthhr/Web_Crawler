{
 "cells": [
  {
   "cell_type": "code",
   "execution_count": 1,
   "metadata": {
    "collapsed": true
   },
   "outputs": [],
   "source": [
    "#@Author: Vasanth(Ravikumar)\n",
    "\n",
    "# import libraries\n",
    "import urllib3\n",
    "from bs4 import BeautifulSoup\n",
    "\n",
    "urllib3.disable_warnings()"
   ]
  },
  {
   "cell_type": "code",
   "execution_count": 2,
   "metadata": {
    "collapsed": true
   },
   "outputs": [],
   "source": [
    "# specify the url\n",
    "#Courtesy: bloomberg website, its for educating, research and development(R&D) purpose.\n",
    "url = 'http://www.bloomberg.com/quote/SPX:IND'\n"
   ]
  },
  {
   "cell_type": "code",
   "execution_count": 3,
   "metadata": {},
   "outputs": [],
   "source": [
    "http = urllib3.PoolManager()\n",
    "\n",
    "user_agent = 'Mozilla/5.0 (Windows NT 6.1; WOW64) AppleWebKit/537.36 (KHTML, like Gecko) Chrome/41.0.2272.101 Safari/537.36'\n",
    "\n",
    "# header variable\n",
    "headers = { 'User-Agent' : user_agent }\n",
    "\n",
    "#url = give whatever url you want to give it.\n",
    "r = http.request('GET', url, headers=headers)\n",
    "\n",
    "# r = http.request('POST', url)\n",
    "\n",
    "# r = requests.get(url) #using other librarier\n",
    "# print(r.status)\n",
    "# print(r.data)\n",
    "\n",
    "#check webcontent is blocked.\n",
    "# if \"blocked\" in r.data:\n",
    "#     print(\"we've been blocked\")\n",
    "    \n",
    "# print(r.decode_content)\n",
    "# print(r.headers.get(\"content-type\", \"unknown\"))"
   ]
  },
  {
   "cell_type": "code",
   "execution_count": null,
   "metadata": {},
   "outputs": [],
   "source": [
    "#use the BeautifulSoup to read html or webpage contents\n",
    "\n",
    "# print(response.data)\n",
    "soup = BeautifulSoup(r.data)"
   ]
  },
  {
   "cell_type": "code",
   "execution_count": 5,
   "metadata": {
    "collapsed": true
   },
   "outputs": [],
   "source": [
    "name_box = soup.find('h1', attrs={'class': 'name'})"
   ]
  },
  {
   "cell_type": "code",
   "execution_count": 6,
   "metadata": {
    "collapsed": true,
    "scrolled": false
   },
   "outputs": [],
   "source": [
    "# print(soup)\n",
    "\n",
    "# soup= soup.prettify(formatter=\"html\")\n",
    "\n",
    "# print(soup)"
   ]
  },
  {
   "cell_type": "code",
   "execution_count": 7,
   "metadata": {
    "collapsed": true
   },
   "outputs": [],
   "source": [
    "from collections import defaultdict"
   ]
  },
  {
   "cell_type": "code",
   "execution_count": 8,
   "metadata": {},
   "outputs": [
    {
     "name": "stdout",
     "output_type": "stream",
     "text": [
      "List of All tags Including Img tags with respective id and class values [{}, {}, {}, {}, {}, {}, {}, {}, {}, {}, {'img': 'https://collector-PX8FCGYgk4.perimeterx.net/api/v1/collector/pxPixel.gif?appId=PX8FCGYgk4'}, {}, {}, {'img': 'https://collector-PX8FCGYgk4.perimeterx.net/api/v1/collector/noScript.gif?appId=PX8FCGYgk4'}]\n"
     ]
    }
   ],
   "source": [
    "tags = defaultdict(set)\n",
    "\n",
    "[s.extract() for s in soup('script')]\n",
    "\n",
    "# print(soup)\n",
    "\n",
    "VALID_ATTR_TAGS = [\n",
    "    'id',\n",
    "    'class'    \n",
    "]\n",
    "\n",
    "VALID_IMG_TAGS = [\n",
    "    'img'    \n",
    "]\n",
    "\n",
    "data =[]\n",
    "index=0\n",
    "for tag in soup():\n",
    "    \n",
    "    list_tags={}\n",
    "    if tag.name in VALID_IMG_TAGS:\n",
    "#         print(tag.name,\" ::: \",tag.attrs.get('src'))\n",
    "        list_tags[tag.name]=tag.attrs.get('src')\n",
    "#         index +=1\n",
    "    for att in tag.attrs.keys():\n",
    "                \n",
    "                if att in VALID_ATTR_TAGS:\n",
    "                    #you can class\n",
    "                    list_tags[att]= tag.attrs.get(att)\n",
    "                    \n",
    "                    \n",
    "    data.append(list_tags)\n",
    "print(\"List of All tags Including Img tags with respective id and class values \\n\", data)   \n",
    "                     \n",
    "    \n",
    "# for tag_name in sorted(tags):\n",
    "#       print(\"{name}:{attrs}\".format(name=tag_name, attrs=\",\".join(sorted(tags[tag_name]))))\n",
    "#     print(\"{name}:{attrs}\".format(name=tag_name, attrs=\",\".join(sorted(tags[tag_name]))))"
   ]
  },
  {
   "cell_type": "code",
   "execution_count": null,
   "metadata": {
    "collapsed": true
   },
   "outputs": [],
   "source": []
  }
 ],
 "metadata": {
  "kernelspec": {
   "display_name": "env_ocr_lib",
   "language": "python",
   "name": "env_ocr_lib"
  },
  "language_info": {
   "codemirror_mode": {
    "name": "ipython",
    "version": 3
   },
   "file_extension": ".py",
   "mimetype": "text/x-python",
   "name": "python",
   "nbconvert_exporter": "python",
   "pygments_lexer": "ipython3",
   "version": "3.5.2"
  }
 },
 "nbformat": 4,
 "nbformat_minor": 2
}
